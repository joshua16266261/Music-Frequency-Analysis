{
 "cells": [
  {
   "cell_type": "code",
   "execution_count": 2,
   "id": "60dc04ad",
   "metadata": {},
   "outputs": [],
   "source": [
    "import pytube as pt\n",
    "import moviepy.editor as mp\n",
    "from IPython.display import Audio\n",
    "import os"
   ]
  },
  {
   "cell_type": "code",
   "execution_count": 7,
   "id": "3ecc1a80",
   "metadata": {},
   "outputs": [],
   "source": [
    "def download(youtube):\n",
    "    \"\"\"\n",
    "    Downloads the audio from the YouTube object as an MP3 file.\n",
    "    \n",
    "    Args:\n",
    "        youtube (YouTube) = YouTube object\n",
    "    Returns:\n",
    "        filepath (string) = path to downloaded file\n",
    "    \"\"\"\n",
    "    \n",
    "    streams = youtube.streams\n",
    "    filtered = streams.filter(only_audio=True).first()\n",
    "\n",
    "    if not os.path.exists('Downloads'):\n",
    "        os.makedirs('Downloads')\n",
    "\n",
    "    if filtered:\n",
    "        path = filtered.download(output_path='Downloads')\n",
    "    else:\n",
    "        path = streams.first().download(output_path='Downloads')\n",
    "\n",
    "    # Save as MP3\n",
    "    audioclip = mp.AudioFileClip(path)\n",
    "    filepath = '{}.mp3'.format(''.join(path.split('.')[:-1]))\n",
    "    audioclip.write_audiofile(filepath)\n",
    "\n",
    "    # Clean up\n",
    "    os.remove(path)\n",
    "\n",
    "    return filepath"
   ]
  },
  {
   "cell_type": "markdown",
   "id": "c9a39ea4",
   "metadata": {},
   "source": [
    "# Download as MP3 from YouTube Link"
   ]
  },
  {
   "cell_type": "code",
   "execution_count": 4,
   "id": "02384621",
   "metadata": {},
   "outputs": [],
   "source": [
    "def download_from_youtube_link(link):\n",
    "    \"\"\"\n",
    "    Downloads the audio from the link provided as an MP3 file.\n",
    "    \n",
    "    Args:\n",
    "        link (string) = link to YouTube video\n",
    "    Returns:\n",
    "        filepath (string) = path to downloaded file\n",
    "    \"\"\"\n",
    "    \n",
    "    try:\n",
    "        return download(pt.YouTube(link))\n",
    "    except pt.exceptions.RegexMatchError:\n",
    "        print('Could not find video at link')"
   ]
  },
  {
   "cell_type": "markdown",
   "id": "feb6c28a",
   "metadata": {},
   "source": [
    "# Download as MP3 from Artist and Title"
   ]
  },
  {
   "cell_type": "code",
   "execution_count": 11,
   "id": "a9653fde",
   "metadata": {},
   "outputs": [],
   "source": [
    "def download_from_artist_title(artist, title):\n",
    "    \"\"\"\n",
    "    Searches YouTube for the artist and title and downloads the audio as an MP3 file.\n",
    "    \n",
    "    Args:\n",
    "        artist (string) = artist name\n",
    "        title (string) = song title\n",
    "    Returns:\n",
    "        filepath (string) = path to downloaded file\n",
    "    \"\"\"\n",
    "    \n",
    "    return download(pt.Search('{} - {}'.format(artist, title)).results[0])"
   ]
  },
  {
   "cell_type": "code",
   "execution_count": null,
   "id": "5edb099b",
   "metadata": {},
   "outputs": [],
   "source": []
  }
 ],
 "metadata": {
  "kernelspec": {
   "display_name": "Python 3",
   "language": "python",
   "name": "python3"
  },
  "language_info": {
   "codemirror_mode": {
    "name": "ipython",
    "version": 3
   },
   "file_extension": ".py",
   "mimetype": "text/x-python",
   "name": "python",
   "nbconvert_exporter": "python",
   "pygments_lexer": "ipython3",
   "version": "3.9.5"
  }
 },
 "nbformat": 4,
 "nbformat_minor": 5
}
