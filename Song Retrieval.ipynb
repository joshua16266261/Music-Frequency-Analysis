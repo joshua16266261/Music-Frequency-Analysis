{
 "cells": [
  {
   "cell_type": "code",
   "execution_count": null,
   "id": "60dc04ad",
   "metadata": {},
   "outputs": [],
   "source": [
    "import pytube as pt\n",
    "import moviepy.editor as mp\n",
    "from IPython.display import Audio\n",
    "import os"
   ]
  },
  {
   "cell_type": "markdown",
   "id": "2b7a4181",
   "metadata": {},
   "source": [
    "# Download as MP3 from YouTube Link"
   ]
  },
  {
   "cell_type": "code",
   "execution_count": null,
   "id": "3834003a",
   "metadata": {},
   "outputs": [],
   "source": [
    "def download_from_youtube_link(link):\n",
    "    \"\"\"\n",
    "    Downloads the audio from the link provided as an MP3 file.\n",
    "    \n",
    "    Args:\n",
    "        link (string) = link to YouTube video\n",
    "    Returns:\n",
    "        filepath (string) = path to downloaded file\n",
    "    \"\"\"\n",
    "    \n",
    "    try:\n",
    "        # Download from YouTube\n",
    "        video = pt.YouTube(link)\n",
    "        streams = video.streams\n",
    "        filtered = streams.filter(only_audio=True).first()\n",
    "        \n",
    "        if not os.path.exists('Downloads'):\n",
    "            os.makedirs('Downloads')\n",
    "        \n",
    "        if filtered is not None:\n",
    "            path = filtered.download(output_path='Downloads', filename_prefix='{} - '.format(video.author))\n",
    "        else:\n",
    "            path = streams.first().download(output_path='Downloads', filename_prefix='{} - '.format(video.author))\n",
    "\n",
    "        # Save as MP3\n",
    "        audioclip = mp.AudioFileClip(path)\n",
    "        filepath = '{}.mp3'.format(''.join(path.split('.')[:-1]))\n",
    "        audioclip.write_audiofile(filepath)\n",
    "\n",
    "        # Clean up\n",
    "        os.remove(path)\n",
    "    \n",
    "        return filepath\n",
    "    except pt.exceptions.RegexMatchError:\n",
    "        print('Could not find video at link')"
   ]
  },
  {
   "cell_type": "code",
   "execution_count": null,
   "id": "21da4641",
   "metadata": {},
   "outputs": [],
   "source": []
  },
  {
   "cell_type": "code",
   "execution_count": null,
   "id": "9da5f069",
   "metadata": {},
   "outputs": [],
   "source": []
  }
 ],
 "metadata": {
  "kernelspec": {
   "display_name": "Python 3",
   "language": "python",
   "name": "python3"
  },
  "language_info": {
   "codemirror_mode": {
    "name": "ipython",
    "version": 3
   },
   "file_extension": ".py",
   "mimetype": "text/x-python",
   "name": "python",
   "nbconvert_exporter": "python",
   "pygments_lexer": "ipython3",
   "version": "3.9.5"
  }
 },
 "nbformat": 4,
 "nbformat_minor": 5
}
